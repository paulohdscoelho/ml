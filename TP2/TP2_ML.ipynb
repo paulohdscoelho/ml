{
  "nbformat": 4,
  "nbformat_minor": 0,
  "metadata": {
    "colab": {
      "provenance": [],
      "collapsed_sections": []
    },
    "kernelspec": {
      "name": "python3",
      "display_name": "Python 3"
    },
    "language_info": {
      "name": "python"
    }
  },
  "cells": [
    {
      "cell_type": "markdown",
      "source": [
        "#UFMG - Trabalho Prático 2 - Aprendizado de Máquina\n",
        "\n",
        "Aluno: Paulo Henrique de Souza Coelho\n",
        "\n",
        "O objetivo desse trabalho prático é ganhar experiência com o processo de Boosting. Aqui será implementado o processo de Boosting visto em sala de aula, o algoritmo Adaboost para um problema de classificação binária com atributos categóricos. O dataset utilizado será o tic-tac-toe, disponível em https://archive.ics.uci.edu/ml/datasets/Tic-Tac-Toe+Endgame. Esse dataset contém vários jogos da velha e o objetivo é estimar quando o jogador que joga com 'x' vence.\n",
        "\n",
        "\n",
        "---\n",
        "\n",
        "#AdaBoost\n",
        "\n",
        "Adaboost é um método de aprendizado de emsemble criado inicialmente para aumentar a eficiência de classificadores binários. Adaboost usa uma abordagem iterativa para aprender a partir dos erros de classificadores fracos (weak classifiers), combinando as repostas para criar classificadores fortes.\n",
        "\n",
        "Aprendizado de esemble é uma técnica de aprendizado de máquina que combina vários algoritmos base para formar um algoritmo preditivo otimizado. Exemplos de ensemble algorimtos são Decision Tree e Adaboost.\n",
        "\n",
        "\n",
        "\n",
        "\n",
        "\n",
        "\n"
      ],
      "metadata": {
        "id": "RIcarpKhYc91"
      }
    },
    {
      "cell_type": "code",
      "source": [
        "#Importando pacotes\n",
        "\n",
        "import pandas as pd\n",
        "import math\n",
        "import numpy as np\n",
        "import matplotlib.pyplot as plt\n",
        "from sklearn.tree import DecisionTreeClassifier\n",
        "from sklearn.model_selection import train_test_split, StratifiedKFold, cross_val_score\n",
        "from sklearn.metrics import accuracy_score, roc_auc_score, classification_report\n",
        " \n",
        "SEED=500"
      ],
      "metadata": {
        "id": "oGqFUWrwghVx"
      },
      "execution_count": null,
      "outputs": []
    },
    {
      "cell_type": "markdown",
      "source": [
        "#Funções de apoio\n",
        "\n",
        "A função calcula_erro irá calcular a soma dos pesos das observações presentes nos dados onde determinada decision stump errou.\n",
        "\n",
        "A função calcula_alpha irá calcular o peso do classificador fraco no classificador final, o que é chamado de alpha.\n",
        "\n",
        "A função atualiza_pesos irá aumentar os pesos das observações onde a previsão da stump está errada para que não seja provável que essas observações estejam erradas na próxima iteração."
      ],
      "metadata": {
        "id": "qelezMV3k1gx"
      }
    },
    {
      "cell_type": "code",
      "source": [
        "    '''\n",
        "    Calcula a taxa de erro de um classificador fraco m. Argumentos:\n",
        "    y = valor do alvo\n",
        "    y_pred = valor previsto pelo classificador fraco\n",
        "    w_i: pesos individuais para cada observação\n",
        "    '''\n",
        "def calcula_erro(y, y_pred, w_i):\n",
        "    return (sum(w_i * (np.not_equal(y, y_pred)).astype(int)))/sum(w_i)\n",
        "\n",
        "    '''\n",
        "    Calcula o peso do classificador fraco m no voto majoritário do classificador final. \n",
        "    Isso é chamado de alpha. Argumentos:\n",
        "    error = taxa de erro do classificador fraco m\n",
        "    '''\n",
        "\n",
        "def calcula_alpha(error):\n",
        "    return np.log((1 - error) / error)\n",
        "\n",
        "    ''' \n",
        "    Atualiza os pesos individuais w_i após a iteração do boosting. Argumentos:\n",
        "    w_i = pesos individuais para cada obsrvação\n",
        "    y = valor da variável alvo\n",
        "    y_pred = valor previso pelo classificador fraco\n",
        "    alpha = peso do classificador fraco usado para estimar y_pred\n",
        "    '''\n",
        "\n",
        "def atualiza_pesos(w_i, alpha, y, y_pred):   \n",
        "    return w_i * np.exp(alpha * (np.not_equal(y, y_pred)).astype(int))"
      ],
      "metadata": {
        "id": "-mxG5gGKgkbA"
      },
      "execution_count": null,
      "outputs": []
    },
    {
      "cell_type": "markdown",
      "source": [
        "#Implementação AdaBoost\n",
        "\n",
        "Implementando o AdaBoost utilzando uma classe. Como classificador fraco será utilizado o classificador do scikitlearn Decision Tree Classifier com pofundidade máxima de 1.\n",
        "\n",
        "A classe possui os métodos fit, que irá ser utilizado para treinar o modelo,\n",
        "método predict que irá prever valores da classe utilziando os dados de teste e o método error_rates que retorna o valor da taxa de erro da classe.\n",
        "\n",
        "A classe também contém outras informações relevantes para o modelo, como a sequência de classificadores fracos e seus pesos bem como os erros de treino e predição. Esses valores são iniciados como listas vazias na inicialização da classe.\n"
      ],
      "metadata": {
        "id": "dbtVHynwukN3"
      }
    },
    {
      "cell_type": "code",
      "source": [
        "class AdaBoost:\n",
        "\n",
        "  def __init__(self, M=100):\n",
        "  \n",
        "    '''\n",
        "    M: Número de rodadas de boosting. Default é 100    \n",
        "    '''\n",
        "    \n",
        "    self.alphas = []\n",
        "    self.G_M = []\n",
        "    self.M = None\n",
        "    self.erro_de_treino = []\n",
        "    self.erro_de_predicao = []\n",
        "    self.M = M\n",
        "\n",
        "  def fit(self, X, y):\n",
        "    '''\n",
        "    Fitar modelo. Argumentos:\n",
        "    X: variáveis independentes - vetor tipo array\n",
        "    y: variáveis alvo - vetor tipo array  \n",
        "    '''\n",
        "  \n",
        "    self.alphas = [] \n",
        "    self.erro_de_treino = []\n",
        "\n",
        "    for m in range(0, self.M):        \n",
        "      if m == 0:\n",
        "          w_i = np.ones(len(y)) * 1 / len(y)\n",
        "      else:\n",
        "          w_i = atualiza_pesos(w_i, alpha_m, y, y_pred)\n",
        "\n",
        "      G_m = DecisionTreeClassifier(max_depth = 1)\n",
        "      G_m.fit(X, y, sample_weight = w_i)\n",
        "      y_pred = G_m.predict(X)\n",
        "      \n",
        "      self.G_M.append(G_m)\n",
        "      \n",
        "      error_m = calcula_erro(y, y_pred, w_i)\n",
        "      self.erro_de_treino.append(error_m)\n",
        "\n",
        "      alpha_m = calcula_alpha(error_m)\n",
        "      self.alphas.append(alpha_m)\n",
        "\n",
        "    assert len(self.G_M) == len(self.alphas)\n",
        "\n",
        "  def predict(self, X):\n",
        "    '''\n",
        "    Previsões usando o modelo. Argumentos:\n",
        "    X: variáveis independentes - tipo array\n",
        "    '''\n",
        "\n",
        "    weak_preds = pd.DataFrame(index = range(len(X)), columns = range(self.M)) \n",
        "\n",
        "    for m in range(self.M):\n",
        "        y_pred_m = self.G_M[m].predict(X) * self.alphas[m]\n",
        "        weak_preds.iloc[:,m] = y_pred_m\n",
        "\n",
        "    y_pred = (1 * np.sign(weak_preds.T.sum())).astype(int)\n",
        "\n",
        "    return y_pred\n",
        "\n",
        "  def error_rates(self, X, y):\n",
        "      '''\n",
        "      Pega a taxa de erro de cada classificador fraco. Argumentos:\n",
        "      X = variáveis independentes\n",
        "      y = variáveis alvo associadas a X\n",
        "      '''\n",
        "      \n",
        "      self.erro_de_predicao = []\n",
        "     \n",
        "      for m in range(self.M):\n",
        "          y_pred_m = self.G_M[m].predict(X)          \n",
        "          error_m = calcula_erro(y = y, y_pred = y_pred_m, w_i = np.ones(len(y)))\n",
        "          self.erro_de_predicao.append(error_m)"
      ],
      "metadata": {
        "id": "JUXchjvDgnpK"
      },
      "execution_count": null,
      "outputs": []
    },
    {
      "cell_type": "markdown",
      "source": [
        "#Executa validação cruzada\n",
        "\n",
        "Essa função irá realizar a validação cruzada para cada um dos 5 folds utilizando a função StratifiedKfold, um objeto de validação cruzada pertencente à biblioteca sklearn e retorna folds estratificados. Os folds são feitos prevervando a porcentagem de amostras de cada classe.\n",
        "\n",
        "Para cada número de iterações são realizadas 5 folds, o modelo é fitado passando o valor de M que reflete o número de classificadores fracos (ou rounds de boosting) como o valor de num_iterações.\n",
        "\n",
        "Os valores de previsão são obtidos utilizando a função predict e a acurácia é calculada utilizando a função acuracy_score do sickitlearn.\n"
      ],
      "metadata": {
        "id": "HLh2v3nKqWPX"
      }
    },
    {
      "cell_type": "code",
      "source": [
        "def executa_validacao_cruzada(X, y, num_iteracoes, cv = 5):\n",
        "  validacao_cruzada = StratifiedKFold(n_splits = cv, shuffle = True, random_state = SEED)\n",
        "  lst_acuracia = []\n",
        "\n",
        "  iteracao_fold = 1\n",
        "  # para cada conjunto de 4 folds é ajustado o classificador, depois ajustada as metricas no fold de teste\n",
        "  for treino, teste in validacao_cruzada.split(X, y):\n",
        "  # ajustando o classificador\n",
        "    classificador_adaboost = AdaBoost(M = num_iteracoes)\n",
        "    classificador_adaboost.fit(X = X.iloc[treino], y = y.iloc[treino])\n",
        "\n",
        "    predicao_adaboost_teste = classificador_adaboost.predict(X.iloc[teste])    \n",
        "    acuracia = accuracy_score(y.iloc[teste], predicao_adaboost_teste) * 100\n",
        "\n",
        "    lst_acuracia.append(acuracia)\n",
        "    iteracao_fold += 1\n",
        "  print(\"Validação cruzada com número de iterações igual a {} executada com sucesso.\".format(num_iteracoes))\n",
        "  return {'acuracia': lst_acuracia}\n"
      ],
      "metadata": {
        "id": "q8uiKXJ0kXrM"
      },
      "execution_count": null,
      "outputs": []
    },
    {
      "cell_type": "markdown",
      "source": [
        "#Leitura dos dados e execução\n",
        "\n",
        "A leitura dos dados é realizada utlizando um link do github com os dados de jogo da velha (tic tac toe). Os dados estão em string que indica se o jogador utilizou x, o ou deixou em branco (b). Esses valores são transformados em números de 0 a 2, já o valor de y está em postive e negative indicando se o jogador ganhou ou perdeu o jogo. Os valores são mudados para 1 e -1.\n",
        "\n",
        "Os dados são separados em treino e teste utlizando o train_test_split do sciktlearn. Também são definidos os números de interações para a validação cruzada, variando de 1 a 500, valores que serão utilizados para definir o número de classificadores fracos na classe AdaBoosting.\n",
        "\n",
        "Para cada número de interação é realizada a validação cruzada definida no bloco de código anterior. Os valores são adicionados a uma lista."
      ],
      "metadata": {
        "id": "_JyItCklu_RU"
      }
    },
    {
      "cell_type": "code",
      "execution_count": null,
      "metadata": {
        "id": "yPiXE2eegb7h",
        "colab": {
          "base_uri": "https://localhost:8080/"
        },
        "outputId": "6d82ff77-28ce-4f0a-af22-6816a357c7c6"
      },
      "outputs": [
        {
          "output_type": "stream",
          "name": "stdout",
          "text": [
            "Validação cruzada com número de iterações igual a 1 executada com sucesso.\n",
            "Validação cruzada com número de iterações igual a 2 executada com sucesso.\n",
            "Validação cruzada com número de iterações igual a 5 executada com sucesso.\n",
            "Validação cruzada com número de iterações igual a 10 executada com sucesso.\n",
            "Validação cruzada com número de iterações igual a 20 executada com sucesso.\n",
            "Validação cruzada com número de iterações igual a 50 executada com sucesso.\n",
            "Validação cruzada com número de iterações igual a 100 executada com sucesso.\n",
            "Validação cruzada com número de iterações igual a 200 executada com sucesso.\n",
            "Validação cruzada com número de iterações igual a 500 executada com sucesso.\n"
          ]
        }
      ],
      "source": [
        "url = \"https://raw.githubusercontent.com/paulohdscoelho/ml/master/TP2/tic-tac-toe.data\"\n",
        "data = pd.read_csv(url, delimiter=',')\n",
        "symbol_to_id = {'x':0, 'o':1, 'b':2, 'positive':1, 'negative':-1}\n",
        "data = data.applymap(lambda x: symbol_to_id[x])\n",
        "\n",
        "x, y = data.drop('resposta', axis=1), data['resposta']\n",
        "\n",
        "treino_x, teste_x, treino_y, teste_y = train_test_split(x, y, random_state = SEED, test_size = 0.3, stratify = y)\n",
        "treino_x = treino_x.values\n",
        "teste_x = teste_x.values\n",
        "\n",
        "lst_num_iteracoes = [1, 2, 5, 10, 20, 50, 100, 200, 500]\n",
        "resultados_validacao_cruzada = [executa_validacao_cruzada(x, y, i) for i in lst_num_iteracoes]"
      ]
    },
    {
      "cell_type": "markdown",
      "source": [
        "#Valores do classificador\n",
        "\n",
        "Abaixo é mostrado de maneira tabelar os valores de acurácia que o classificador obteve para cada um dos splits, bem como a acuŕacia méida e o desvio padrão para cada número de iterações utiilizada na cross-validation. O valor de iterações é aqui o número de vezes que o modelo irá executar a correção de pesos dado os valores de treino, ou seja, quanto mais iterações, mais o modelo converge para uma separação eficiente dos dados.\n",
        "\n",
        "Nota-se que o valor da acurácia para todos os k-folds (split) aumenta à medica que o número de iterações aumenta. Notadamente, como 1 iteração a acurácia média fica em 65,35%, já com 500 iterações o valor aumenta para 95,93%. \n"
      ],
      "metadata": {
        "id": "ndWaH3e1wlpb"
      }
    },
    {
      "cell_type": "code",
      "source": [
        "df_acuracia = pd.DataFrame({\n",
        "    'num_iteracoes': lst_num_iteracoes,\n",
        "    'acuracia_teste_split0': [resultados_validacao_cruzada[item]['acuracia'][0] for item in range(len(lst_num_iteracoes))],\n",
        "    'acuracia_teste_split1': [resultados_validacao_cruzada[item]['acuracia'][1] for item in range(len(lst_num_iteracoes))],\n",
        "    'acuracia_teste_split2': [resultados_validacao_cruzada[item]['acuracia'][2] for item in range(len(lst_num_iteracoes))],\n",
        "    'acuracia_teste_split3': [resultados_validacao_cruzada[item]['acuracia'][3] for item in range(len(lst_num_iteracoes))],\n",
        "    'acuracia_teste_split4': [resultados_validacao_cruzada[item]['acuracia'][4] for item in range(len(lst_num_iteracoes))],\n",
        "    'acuracia_teste_media': [np.mean(resultados_validacao_cruzada[item]['acuracia']) for item in range(len(lst_num_iteracoes))],\n",
        "    'acuracia_teste_std': [np.std(resultados_validacao_cruzada[item]['acuracia']) for item in range(len(lst_num_iteracoes))]})\n",
        "\n",
        "df_acuracia"
      ],
      "metadata": {
        "colab": {
          "base_uri": "https://localhost:8080/",
          "height": 331
        },
        "id": "_k46fP6quv_Q",
        "outputId": "8429c466-8ac4-4949-eba0-e1d88d5f3323"
      },
      "execution_count": null,
      "outputs": [
        {
          "output_type": "execute_result",
          "data": {
            "text/plain": [
              "   num_iteracoes  acuracia_teste_split0  acuracia_teste_split1  \\\n",
              "0              1              65.625000              65.104167   \n",
              "1              2              65.625000              58.333333   \n",
              "2              5              69.270833              66.666667   \n",
              "3             10              76.562500              67.708333   \n",
              "4             20              73.437500              72.395833   \n",
              "5             50              74.479167              70.312500   \n",
              "6            100              77.604167              72.916667   \n",
              "7            200              83.854167              80.729167   \n",
              "8            500              96.875000              94.791667   \n",
              "\n",
              "   acuracia_teste_split2  acuracia_teste_split3  acuracia_teste_split4  \\\n",
              "0              65.104167              65.445026              65.445026   \n",
              "1              65.104167              60.209424              65.445026   \n",
              "2              72.916667              68.062827              72.774869   \n",
              "3              80.729167              77.486911              76.963351   \n",
              "4              77.604167              69.109948              78.534031   \n",
              "5              75.000000              71.727749              73.821990   \n",
              "6              78.645833              75.392670              77.486911   \n",
              "7              86.458333              81.675393              90.052356   \n",
              "8              97.916667              92.670157              97.382199   \n",
              "\n",
              "   acuracia_teste_media  acuracia_teste_std  \n",
              "0             65.344677            0.207080  \n",
              "1             62.943390            3.060894  \n",
              "2             69.938373            2.513296  \n",
              "3             75.890052            4.347681  \n",
              "4             74.216296            3.467446  \n",
              "5             73.068281            1.770964  \n",
              "6             76.409250            2.040738  \n",
              "7             84.553883            3.384196  \n",
              "8             95.927138            1.942735  "
            ],
            "text/html": [
              "\n",
              "  <div id=\"df-1c436926-8729-43a6-bc31-27f44bed868b\">\n",
              "    <div class=\"colab-df-container\">\n",
              "      <div>\n",
              "<style scoped>\n",
              "    .dataframe tbody tr th:only-of-type {\n",
              "        vertical-align: middle;\n",
              "    }\n",
              "\n",
              "    .dataframe tbody tr th {\n",
              "        vertical-align: top;\n",
              "    }\n",
              "\n",
              "    .dataframe thead th {\n",
              "        text-align: right;\n",
              "    }\n",
              "</style>\n",
              "<table border=\"1\" class=\"dataframe\">\n",
              "  <thead>\n",
              "    <tr style=\"text-align: right;\">\n",
              "      <th></th>\n",
              "      <th>num_iteracoes</th>\n",
              "      <th>acuracia_teste_split0</th>\n",
              "      <th>acuracia_teste_split1</th>\n",
              "      <th>acuracia_teste_split2</th>\n",
              "      <th>acuracia_teste_split3</th>\n",
              "      <th>acuracia_teste_split4</th>\n",
              "      <th>acuracia_teste_media</th>\n",
              "      <th>acuracia_teste_std</th>\n",
              "    </tr>\n",
              "  </thead>\n",
              "  <tbody>\n",
              "    <tr>\n",
              "      <th>0</th>\n",
              "      <td>1</td>\n",
              "      <td>65.625000</td>\n",
              "      <td>65.104167</td>\n",
              "      <td>65.104167</td>\n",
              "      <td>65.445026</td>\n",
              "      <td>65.445026</td>\n",
              "      <td>65.344677</td>\n",
              "      <td>0.207080</td>\n",
              "    </tr>\n",
              "    <tr>\n",
              "      <th>1</th>\n",
              "      <td>2</td>\n",
              "      <td>65.625000</td>\n",
              "      <td>58.333333</td>\n",
              "      <td>65.104167</td>\n",
              "      <td>60.209424</td>\n",
              "      <td>65.445026</td>\n",
              "      <td>62.943390</td>\n",
              "      <td>3.060894</td>\n",
              "    </tr>\n",
              "    <tr>\n",
              "      <th>2</th>\n",
              "      <td>5</td>\n",
              "      <td>69.270833</td>\n",
              "      <td>66.666667</td>\n",
              "      <td>72.916667</td>\n",
              "      <td>68.062827</td>\n",
              "      <td>72.774869</td>\n",
              "      <td>69.938373</td>\n",
              "      <td>2.513296</td>\n",
              "    </tr>\n",
              "    <tr>\n",
              "      <th>3</th>\n",
              "      <td>10</td>\n",
              "      <td>76.562500</td>\n",
              "      <td>67.708333</td>\n",
              "      <td>80.729167</td>\n",
              "      <td>77.486911</td>\n",
              "      <td>76.963351</td>\n",
              "      <td>75.890052</td>\n",
              "      <td>4.347681</td>\n",
              "    </tr>\n",
              "    <tr>\n",
              "      <th>4</th>\n",
              "      <td>20</td>\n",
              "      <td>73.437500</td>\n",
              "      <td>72.395833</td>\n",
              "      <td>77.604167</td>\n",
              "      <td>69.109948</td>\n",
              "      <td>78.534031</td>\n",
              "      <td>74.216296</td>\n",
              "      <td>3.467446</td>\n",
              "    </tr>\n",
              "    <tr>\n",
              "      <th>5</th>\n",
              "      <td>50</td>\n",
              "      <td>74.479167</td>\n",
              "      <td>70.312500</td>\n",
              "      <td>75.000000</td>\n",
              "      <td>71.727749</td>\n",
              "      <td>73.821990</td>\n",
              "      <td>73.068281</td>\n",
              "      <td>1.770964</td>\n",
              "    </tr>\n",
              "    <tr>\n",
              "      <th>6</th>\n",
              "      <td>100</td>\n",
              "      <td>77.604167</td>\n",
              "      <td>72.916667</td>\n",
              "      <td>78.645833</td>\n",
              "      <td>75.392670</td>\n",
              "      <td>77.486911</td>\n",
              "      <td>76.409250</td>\n",
              "      <td>2.040738</td>\n",
              "    </tr>\n",
              "    <tr>\n",
              "      <th>7</th>\n",
              "      <td>200</td>\n",
              "      <td>83.854167</td>\n",
              "      <td>80.729167</td>\n",
              "      <td>86.458333</td>\n",
              "      <td>81.675393</td>\n",
              "      <td>90.052356</td>\n",
              "      <td>84.553883</td>\n",
              "      <td>3.384196</td>\n",
              "    </tr>\n",
              "    <tr>\n",
              "      <th>8</th>\n",
              "      <td>500</td>\n",
              "      <td>96.875000</td>\n",
              "      <td>94.791667</td>\n",
              "      <td>97.916667</td>\n",
              "      <td>92.670157</td>\n",
              "      <td>97.382199</td>\n",
              "      <td>95.927138</td>\n",
              "      <td>1.942735</td>\n",
              "    </tr>\n",
              "  </tbody>\n",
              "</table>\n",
              "</div>\n",
              "      <button class=\"colab-df-convert\" onclick=\"convertToInteractive('df-1c436926-8729-43a6-bc31-27f44bed868b')\"\n",
              "              title=\"Convert this dataframe to an interactive table.\"\n",
              "              style=\"display:none;\">\n",
              "        \n",
              "  <svg xmlns=\"http://www.w3.org/2000/svg\" height=\"24px\"viewBox=\"0 0 24 24\"\n",
              "       width=\"24px\">\n",
              "    <path d=\"M0 0h24v24H0V0z\" fill=\"none\"/>\n",
              "    <path d=\"M18.56 5.44l.94 2.06.94-2.06 2.06-.94-2.06-.94-.94-2.06-.94 2.06-2.06.94zm-11 1L8.5 8.5l.94-2.06 2.06-.94-2.06-.94L8.5 2.5l-.94 2.06-2.06.94zm10 10l.94 2.06.94-2.06 2.06-.94-2.06-.94-.94-2.06-.94 2.06-2.06.94z\"/><path d=\"M17.41 7.96l-1.37-1.37c-.4-.4-.92-.59-1.43-.59-.52 0-1.04.2-1.43.59L10.3 9.45l-7.72 7.72c-.78.78-.78 2.05 0 2.83L4 21.41c.39.39.9.59 1.41.59.51 0 1.02-.2 1.41-.59l7.78-7.78 2.81-2.81c.8-.78.8-2.07 0-2.86zM5.41 20L4 18.59l7.72-7.72 1.47 1.35L5.41 20z\"/>\n",
              "  </svg>\n",
              "      </button>\n",
              "      \n",
              "  <style>\n",
              "    .colab-df-container {\n",
              "      display:flex;\n",
              "      flex-wrap:wrap;\n",
              "      gap: 12px;\n",
              "    }\n",
              "\n",
              "    .colab-df-convert {\n",
              "      background-color: #E8F0FE;\n",
              "      border: none;\n",
              "      border-radius: 50%;\n",
              "      cursor: pointer;\n",
              "      display: none;\n",
              "      fill: #1967D2;\n",
              "      height: 32px;\n",
              "      padding: 0 0 0 0;\n",
              "      width: 32px;\n",
              "    }\n",
              "\n",
              "    .colab-df-convert:hover {\n",
              "      background-color: #E2EBFA;\n",
              "      box-shadow: 0px 1px 2px rgba(60, 64, 67, 0.3), 0px 1px 3px 1px rgba(60, 64, 67, 0.15);\n",
              "      fill: #174EA6;\n",
              "    }\n",
              "\n",
              "    [theme=dark] .colab-df-convert {\n",
              "      background-color: #3B4455;\n",
              "      fill: #D2E3FC;\n",
              "    }\n",
              "\n",
              "    [theme=dark] .colab-df-convert:hover {\n",
              "      background-color: #434B5C;\n",
              "      box-shadow: 0px 1px 3px 1px rgba(0, 0, 0, 0.15);\n",
              "      filter: drop-shadow(0px 1px 2px rgba(0, 0, 0, 0.3));\n",
              "      fill: #FFFFFF;\n",
              "    }\n",
              "  </style>\n",
              "\n",
              "      <script>\n",
              "        const buttonEl =\n",
              "          document.querySelector('#df-1c436926-8729-43a6-bc31-27f44bed868b button.colab-df-convert');\n",
              "        buttonEl.style.display =\n",
              "          google.colab.kernel.accessAllowed ? 'block' : 'none';\n",
              "\n",
              "        async function convertToInteractive(key) {\n",
              "          const element = document.querySelector('#df-1c436926-8729-43a6-bc31-27f44bed868b');\n",
              "          const dataTable =\n",
              "            await google.colab.kernel.invokeFunction('convertToInteractive',\n",
              "                                                     [key], {});\n",
              "          if (!dataTable) return;\n",
              "\n",
              "          const docLinkHtml = 'Like what you see? Visit the ' +\n",
              "            '<a target=\"_blank\" href=https://colab.research.google.com/notebooks/data_table.ipynb>data table notebook</a>'\n",
              "            + ' to learn more about interactive tables.';\n",
              "          element.innerHTML = '';\n",
              "          dataTable['output_type'] = 'display_data';\n",
              "          await google.colab.output.renderOutput(dataTable, element);\n",
              "          const docLink = document.createElement('div');\n",
              "          docLink.innerHTML = docLinkHtml;\n",
              "          element.appendChild(docLink);\n",
              "        }\n",
              "      </script>\n",
              "    </div>\n",
              "  </div>\n",
              "  "
            ]
          },
          "metadata": {},
          "execution_count": 10
        }
      ]
    },
    {
      "cell_type": "markdown",
      "source": [
        "Abaixo é apresentado um gráfico para os valores exibidos na tabela acima. No caso, é apresentada a variação de acurácia média conforme se varia o número de iterações.\n",
        "Fica graficamente óbvio que os valores de acurácia média sobem à medida que o número de iterações também sobe. Isso acontece porque o modelo irá treinar mais os dados, corrigindo o valor dos pesos até convergir em um modelo de acurácia alta."
      ],
      "metadata": {
        "id": "1sdXpewA1lSb"
      }
    },
    {
      "cell_type": "code",
      "source": [
        "plt.figure(figsize = (10, 10))\n",
        "plt.plot('num_iteracoes', 'acuracia_teste_media', data = df_acuracia, \n",
        "         marker = 'o', markerfacecolor = 'royalblue', markersize = 4, \n",
        "         color = 'royalblue', linewidth = 1)\n",
        "plt.title('Acurácia média em teste variando o número de iterações', fontsize = 16)\n",
        "plt.xlabel('Número de iterações', fontsize = 12)\n",
        "plt.ylabel('Acurácia média', fontsize = 12)\n",
        "axes = plt.gca()\n",
        "plt.show()"
      ],
      "metadata": {
        "colab": {
          "base_uri": "https://localhost:8080/",
          "height": 628
        },
        "id": "xX73RaMBvbxW",
        "outputId": "1b529eee-628b-40d9-9a8f-db2540312263"
      },
      "execution_count": null,
      "outputs": [
        {
          "output_type": "display_data",
          "data": {
            "text/plain": [
              "<Figure size 720x720 with 1 Axes>"
            ],
            "image/png": "[encoded data removed]"
          },
          "metadata": {
            "needs_background": "light"
          }
        }
      ]
    },
    {
      "cell_type": "markdown",
      "source": [
        "#Acurácia do modelo e taxa de erro por stump\n",
        "\n",
        "Nessa seção são avaliados os valores da curva de Receiver Operating Characteristic (ROC) e o Area Under the Curve (AUC), também conhecido como ROC-AUC. Nota-se que o valor é bastante elevado, chegando a 95%. É utilizado um adaboost com valor de M igual a 500, por ter sido o número de iterações que obteve melhor valor de acurácia nas secões anteriores.\n",
        "\n",
        "Também é exibido os valores do Report de classificação do modelo. Nota-se que a precisão do modelo é bastante elevada (a precisão chega a 100% para o valor de -1 e 95% para 1). Já o recall possui um valor de 91% para a classe -1 e 100% para a classe 1. o F1-score também é elevado e a acurácia do modelo atinge 95% e 98%.\n",
        "\n",
        "Abaixo é plotado um gráfico contendo a taxa de erro por cada stump do modelo. Nota-se que o valor inicialmente é baixo e cresce entre os valores de 0 a 50 stumps, atingindo um valor alto a partir de 50 stumps e variando de forma consistente à medida que o número de stumps aumenta."
      ],
      "metadata": {
        "id": "stl2idhCypRT"
      }
    },
    {
      "cell_type": "code",
      "source": [
        "ab = AdaBoost(M = 500)\n",
        "ab.fit(treino_x, treino_y)\n",
        "\n",
        "y_pred = ab.predict(teste_x)\n",
        "print('O score ROC-AUC do modelo é:', round(roc_auc_score(teste_y, y_pred), 4))\n",
        "print(\"Relatório de classificação: \\n\", classification_report(teste_y, y_pred))\n",
        "\n",
        "plt.figure(figsize=(10,5))\n",
        "plt.plot(ab.erro_de_treino)\n",
        "plt.hlines(0.5, 0, 500, colors = 'red', linestyles='dashed')\n",
        "plt.title('Taxa de erro de treino por stump')\n",
        "plt.xlabel('Stump')\n",
        "plt.show()"
      ],
      "metadata": {
        "colab": {
          "base_uri": "https://localhost:8080/",
          "height": 553
        },
        "id": "Mep5TvJDoKfL",
        "outputId": "06298b2d-d898-432b-84db-6add2ab09d80"
      },
      "execution_count": null,
      "outputs": [
        {
          "output_type": "stream",
          "name": "stdout",
          "text": [
            "O score ROC-AUC do modelo é: 0.955\n",
            "Relatório de classificação: \n",
            "               precision    recall  f1-score   support\n",
            "\n",
            "          -1       1.00      0.91      0.95       100\n",
            "           1       0.95      1.00      0.98       188\n",
            "\n",
            "    accuracy                           0.97       288\n",
            "   macro avg       0.98      0.96      0.96       288\n",
            "weighted avg       0.97      0.97      0.97       288\n",
            "\n"
          ]
        },
        {
          "output_type": "display_data",
          "data": {
            "text/plain": [
              "<Figure size 720x360 with 1 Axes>"
            ],
            "image/png": "[encoded data removed]"
          },
          "metadata": {
            "needs_background": "light"
          }
        }
      ]
    }
  ]
}